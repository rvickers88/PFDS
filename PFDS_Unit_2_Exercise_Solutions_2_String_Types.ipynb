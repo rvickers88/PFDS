{
 "cells": [
  {
   "cell_type": "markdown",
   "id": "fda24729",
   "metadata": {},
   "source": [
    "# Exercise Solutions - String Types"
   ]
  },
  {
   "cell_type": "markdown",
   "id": "2a69c0b7",
   "metadata": {},
   "source": [
    "### Exercise\n",
    "\n",
    "Use each of the strings introduced above in a print command and consider the output. For example, does the format of the string change the output? What happens if the string is longer than the line where it is printed?\n",
    "\n",
    "#### Solution\n",
    "\n",
    "The strings introduced in the reading are:"
   ]
  },
  {
   "cell_type": "code",
   "execution_count": 1,
   "id": "468b88e0",
   "metadata": {},
   "outputs": [
    {
     "name": "stdout",
     "output_type": "stream",
     "text": [
      "This is a string.\n",
      "So is this!\n",
      "This string contains a quote symbol, but it's not the end of the string.\n",
      " Triple quoted strings provide \n",
      "\n",
      "    an easy way of incorporating \n",
      "\n",
      "    chunks of formatted material into a program file.\n",
      "Special characters like 'newlines' \n",
      " and 'tabs' \t can be included by use of backslashes\n"
     ]
    }
   ],
   "source": [
    "print('This is a string.')\n",
    "print(\"So is this!\")\n",
    "print(\"This string contains a quote symbol, but it's not the end of the string.\")\n",
    "print(\"\"\" Triple quoted strings provide \n",
    "\n",
    "    an easy way of incorporating \n",
    "\n",
    "    chunks of formatted material into a program file.\"\"\")\n",
    "print(\"Special characters like 'newlines' \\n and 'tabs' \\t can be included by use of backslashes\")"
   ]
  },
  {
   "cell_type": "markdown",
   "id": "c24b4cb5",
   "metadata": {},
   "source": [
    "The formatting (i.e. the line breaks and spacing) of the fourth string is captured by the print statement, and the new line and tab characters add additional spacing to the final example. If none of the above examples are longer than where they're printed, you might try your own example. Using this text:"
   ]
  },
  {
   "cell_type": "code",
   "execution_count": 2,
   "id": "a4c978d9",
   "metadata": {},
   "outputs": [
    {
     "name": "stdout",
     "output_type": "stream",
     "text": [
      "The formatting (i.e. the line breaks and spacing) of the fourth string is captured by the print statement, and the new line and tab characters add additional spacing to the final example. If none of the above examples are longer than where they're printed, you might try your own example. Using this text:\n"
     ]
    }
   ],
   "source": [
    "print(\"The formatting (i.e. the line breaks and spacing) of the fourth string is captured by the print statement, and the new line and tab characters add additional spacing to the final example. If none of the above examples are longer than where they're printed, you might try your own example. Using this text:\")"
   ]
  },
  {
   "cell_type": "markdown",
   "id": "531a509b",
   "metadata": {},
   "source": [
    "Which (should) wrap the text, rather than continuing to print off screen.\n",
    "\n",
    "### Exercise\n",
    "\n",
    "In Python, which is smaller \"post office\" or \"post-haste\"?\n",
    "\n",
    "#### Solution"
   ]
  },
  {
   "cell_type": "code",
   "execution_count": 3,
   "id": "ecaec8c9",
   "metadata": {},
   "outputs": [
    {
     "data": {
      "text/plain": [
       "True"
      ]
     },
     "execution_count": 3,
     "metadata": {},
     "output_type": "execute_result"
    }
   ],
   "source": [
    "\"post office\" < \"post-haste\""
   ]
  },
  {
   "cell_type": "markdown",
   "id": "d9b1c102",
   "metadata": {},
   "source": [
    "So Python considers a space less than a hyphen.\n",
    "\n",
    "### Exercises\n",
    "1. Are startswith and endswith case sensitive?\n",
    "2. Use split and len to count how many words there are in the sentence \"You must be the change you wish to see in the world\". Hint: you can use the output of split as the argument of len.\n",
    "3. Use split and join to remove the hyphen characters in the sentence \"I find the use of hyphens counter-intuitive and not straight-forward\".\n",
    "\n",
    "#### Solution\n",
    "\n",
    "1. `startswith` and `endswith` are case sensitive:"
   ]
  },
  {
   "cell_type": "code",
   "execution_count": 4,
   "id": "8fc871bc",
   "metadata": {},
   "outputs": [
    {
     "data": {
      "text/plain": [
       "False"
      ]
     },
     "execution_count": 4,
     "metadata": {},
     "output_type": "execute_result"
    }
   ],
   "source": [
    "'fundamentals of programming'.startswith('Fun')"
   ]
  },
  {
   "cell_type": "code",
   "execution_count": 5,
   "id": "030dc148",
   "metadata": {},
   "outputs": [
    {
     "data": {
      "text/plain": [
       "False"
      ]
     },
     "execution_count": 5,
     "metadata": {},
     "output_type": "execute_result"
    }
   ],
   "source": [
    "'FUNdamentals of programming'.startswith('fun')"
   ]
  },
  {
   "cell_type": "code",
   "execution_count": 6,
   "id": "0500c431",
   "metadata": {},
   "outputs": [
    {
     "data": {
      "text/plain": [
       "False"
      ]
     },
     "execution_count": 6,
     "metadata": {},
     "output_type": "execute_result"
    }
   ],
   "source": [
    "'slaughter'.endswith('LAughter')"
   ]
  },
  {
   "cell_type": "code",
   "execution_count": 7,
   "id": "606a8c96",
   "metadata": {},
   "outputs": [
    {
     "data": {
      "text/plain": [
       "False"
      ]
     },
     "execution_count": 7,
     "metadata": {},
     "output_type": "execute_result"
    }
   ],
   "source": [
    "'sLaughter'.endswith('LAughter')"
   ]
  },
  {
   "cell_type": "markdown",
   "id": "ff851684",
   "metadata": {},
   "source": [
    "2. There are 12 words in the sentence \"You must be the change you wish to see in the world\", which we can do by using the method `split` to turn the string into a list of words, then use `len` to count the number of elements in the list:  "
   ]
  },
  {
   "cell_type": "code",
   "execution_count": 8,
   "id": "013acf4c",
   "metadata": {},
   "outputs": [
    {
     "data": {
      "text/plain": [
       "12"
      ]
     },
     "execution_count": 8,
     "metadata": {},
     "output_type": "execute_result"
    }
   ],
   "source": [
    "len(\"You must be the change you wish to see in the world\".split())"
   ]
  },
  {
   "cell_type": "markdown",
   "id": "1131c466",
   "metadata": {},
   "source": [
    "3. We can split the sentence \"I find the use of hyphens counter-intuitive and not straight-forward\" up at the hyphens, then join using an empty string:"
   ]
  },
  {
   "cell_type": "code",
   "execution_count": 9,
   "id": "14dff613",
   "metadata": {},
   "outputs": [
    {
     "data": {
      "text/plain": [
       "'I find the use of hyphens counter intuitive and not straight forward'"
      ]
     },
     "execution_count": 9,
     "metadata": {},
     "output_type": "execute_result"
    }
   ],
   "source": [
    "' '.join(\"I find the use of hyphens counter-intuitive and not straight-forward\".split('-'))"
   ]
  },
  {
   "cell_type": "markdown",
   "id": "f085cb9f",
   "metadata": {},
   "source": [
    "### Exercises (f-strings)\n",
    "\n",
    "1. Does the order in which the options are specified matter?\n",
    "2. Does the total width specified for a float include the space for the decimal place?\n",
    "3. What happens if the total width specified for a float is less than the width of the float?\n",
    "4. The b option converts a decimal integer to binary, but does the d option convert binary to decimal?\n",
    "5. There are additional formatting options to those described above. What do you think the formatting options do in f'{12345.678:*<+15,.4f}'?\n",
    "\n",
    "#### Solution\n",
    "\n",
    "1. Yes, order matters, for example, we can't put the left align character after specifying fixed point notation:"
   ]
  },
  {
   "cell_type": "code",
   "execution_count": 10,
   "id": "a6ba0d1d",
   "metadata": {},
   "outputs": [
    {
     "ename": "ValueError",
     "evalue": "Invalid format specifier",
     "output_type": "error",
     "traceback": [
      "\u001b[0;31m---------------------------------------------------------------------------\u001b[0m",
      "\u001b[0;31mValueError\u001b[0m                                Traceback (most recent call last)",
      "Cell \u001b[0;32mIn[10], line 2\u001b[0m\n\u001b[1;32m      1\u001b[0m \u001b[38;5;66;03m# This produces an error\u001b[39;00m\n\u001b[0;32m----> 2\u001b[0m \u001b[38;5;124mf\u001b[39m\u001b[38;5;124m'\u001b[39m\u001b[38;5;132;01m{\u001b[39;00m\u001b[38;5;241m1\u001b[39m\u001b[38;5;241m/\u001b[39m\u001b[38;5;241m7\u001b[39m\u001b[38;5;132;01m:\u001b[39;00m\u001b[38;5;124m20.12f<\u001b[39m\u001b[38;5;132;01m}\u001b[39;00m\u001b[38;5;124m'\u001b[39m\n",
      "\u001b[0;31mValueError\u001b[0m: Invalid format specifier"
     ]
    }
   ],
   "source": [
    "# This produces an error\n",
    "f'{1/7:20.12f<}'"
   ]
  },
  {
   "cell_type": "markdown",
   "id": "59127040",
   "metadata": {},
   "source": [
    "2. Yes, the width includes the decimal point. In the example below we fill empty space with 0's and the total width is 16 characters:"
   ]
  },
  {
   "cell_type": "code",
   "execution_count": 11,
   "id": "9812bd9f",
   "metadata": {},
   "outputs": [
    {
     "data": {
      "text/plain": [
       "'000.142857142857'"
      ]
     },
     "execution_count": 11,
     "metadata": {},
     "output_type": "execute_result"
    }
   ],
   "source": [
    "f'{1/7:016.12f}'"
   ]
  },
  {
   "cell_type": "markdown",
   "id": "ff5a3cdb",
   "metadata": {},
   "source": [
    "3. Python is quite for giving, so it will increase the width to ensure the number of decimal places is correct. In the example below, the width is specified as 5, but the string returned has 7 characters width."
   ]
  },
  {
   "cell_type": "code",
   "execution_count": 12,
   "id": "df86d8ea",
   "metadata": {},
   "outputs": [
    {
     "data": {
      "text/plain": [
       "'14.2857'"
      ]
     },
     "execution_count": 12,
     "metadata": {},
     "output_type": "execute_result"
    }
   ],
   "source": [
    "f'{100/7:5.4f}'"
   ]
  },
  {
   "cell_type": "markdown",
   "id": "3483e5e4",
   "metadata": {},
   "source": [
    "4. A number with just zeros and ones is not cast into a binary number, since it could also be a decimal number:"
   ]
  },
  {
   "cell_type": "code",
   "execution_count": 13,
   "id": "715c01b9",
   "metadata": {},
   "outputs": [
    {
     "data": {
      "text/plain": [
       "'10011010010'"
      ]
     },
     "execution_count": 13,
     "metadata": {},
     "output_type": "execute_result"
    }
   ],
   "source": [
    "f'{10011010010:d}'"
   ]
  },
  {
   "cell_type": "markdown",
   "id": "e447dfbe",
   "metadata": {},
   "source": [
    "However, a number can be specified as binary by preceeding it by `0b`, and this will be converted to decimal:"
   ]
  },
  {
   "cell_type": "code",
   "execution_count": 14,
   "id": "3d95e7ad",
   "metadata": {},
   "outputs": [
    {
     "data": {
      "text/plain": [
       "'1234'"
      ]
     },
     "execution_count": 14,
     "metadata": {},
     "output_type": "execute_result"
    }
   ],
   "source": [
    "f'{0b10011010010:d}'"
   ]
  },
  {
   "cell_type": "code",
   "execution_count": 15,
   "id": "1b65331d",
   "metadata": {},
   "outputs": [
    {
     "data": {
      "text/plain": [
       "'10011010010'"
      ]
     },
     "execution_count": 15,
     "metadata": {},
     "output_type": "execute_result"
    }
   ],
   "source": [
    "f'{1234:b}'"
   ]
  },
  {
   "cell_type": "markdown",
   "id": "9eb2b522",
   "metadata": {},
   "source": [
    "5. The code given produces the following"
   ]
  },
  {
   "cell_type": "code",
   "execution_count": 16,
   "id": "09409303",
   "metadata": {},
   "outputs": [
    {
     "data": {
      "text/plain": [
       "'+12,345.6780***'"
      ]
     },
     "execution_count": 16,
     "metadata": {},
     "output_type": "execute_result"
    }
   ],
   "source": [
    "f'{12345.678:*<+15,.4f}'"
   ]
  }
 ],
 "metadata": {
  "kernelspec": {
   "display_name": "Python 3 (ipykernel)",
   "language": "python",
   "name": "python3"
  },
  "language_info": {
   "codemirror_mode": {
    "name": "ipython",
    "version": 3
   },
   "file_extension": ".py",
   "mimetype": "text/x-python",
   "name": "python",
   "nbconvert_exporter": "python",
   "pygments_lexer": "ipython3",
   "version": "3.8.13"
  }
 },
 "nbformat": 4,
 "nbformat_minor": 5
}
