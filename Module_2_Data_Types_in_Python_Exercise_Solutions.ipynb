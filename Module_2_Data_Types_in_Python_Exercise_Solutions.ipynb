{
 "cells": [
  {
   "cell_type": "markdown",
   "metadata": {},
   "source": [
    "# Module 2 Data Types in Python Exercise Solutions \n",
    "\n",
    "## Lesson 4 - Number Types in Python"
   ]
  },
  {
   "cell_type": "markdown",
   "metadata": {},
   "source": [
    "### Exercise\n",
    "\n",
    "Experiment with combining numbers represented as `int` and `float` using the arithemetic operators `+`, `-`, `*` and `/`. Try to determine what operations result in an `int` and what result in a `float`. For example, multiplying an `int` with another `int` results in an `int`:"
   ]
  },
  {
   "cell_type": "code",
   "execution_count": 1,
   "metadata": {},
   "outputs": [
    {
     "data": {
      "text/plain": [
       "8"
      ]
     },
     "execution_count": 1,
     "metadata": {},
     "output_type": "execute_result"
    }
   ],
   "source": [
    "2*4"
   ]
  },
  {
   "cell_type": "markdown",
   "metadata": {},
   "source": [
    "#### Solution\n",
    "\n",
    "There are lots of things to try here, so this solution isn't exhaustive. If we change one of the `int`s to a `float` in the Exercise suggestion, we see that the result is a `float`:"
   ]
  },
  {
   "cell_type": "code",
   "execution_count": 2,
   "metadata": {},
   "outputs": [
    {
     "data": {
      "text/plain": [
       "8.0"
      ]
     },
     "execution_count": 2,
     "metadata": {},
     "output_type": "execute_result"
    }
   ],
   "source": [
    "2.0*4"
   ]
  },
  {
   "cell_type": "markdown",
   "metadata": {},
   "source": [
    "If you replace the `*` operator with `+` and `-`, you'll see the same thing, i.e. that the result is an `int` if both are `int`s, but is a `float` if at least one is a `float`. This if different for the `/` (divide) operator, where the result is always a `float` (even if the result is a whole number)."
   ]
  },
  {
   "cell_type": "code",
   "execution_count": 3,
   "metadata": {},
   "outputs": [
    {
     "data": {
      "text/plain": [
       "2.0"
      ]
     },
     "execution_count": 3,
     "metadata": {},
     "output_type": "execute_result"
    }
   ],
   "source": [
    "4/2"
   ]
  },
  {
   "cell_type": "markdown",
   "metadata": {},
   "source": [
    "### Exercise: \n",
    "    \n",
    "What is the value of `int( -1.7 )`?\n",
    "\n",
    "#### Solution"
   ]
  },
  {
   "cell_type": "code",
   "execution_count": 4,
   "metadata": {},
   "outputs": [
    {
     "data": {
      "text/plain": [
       "-1"
      ]
     },
     "execution_count": 4,
     "metadata": {},
     "output_type": "execute_result"
    }
   ],
   "source": [
    "int(-1.7)"
   ]
  },
  {
   "cell_type": "markdown",
   "metadata": {},
   "source": [
    "This shows that casting into an `int` is not the same as rounding, but it also isn't the same as \"flooring\" a number, which returns the largest integer not greater than the number (which in this case would be -2)."
   ]
  },
  {
   "cell_type": "markdown",
   "metadata": {},
   "source": [
    "### Exercise\n",
    "\n",
    "Use the comparison relations to determine whether $3^9$ is less than $113\\times152$. \n",
    "\n",
    "#### Solution\n",
    "\n",
    "This can be implemented with `<`, `<=`, `>` or `>=`. For example: "
   ]
  },
  {
   "cell_type": "code",
   "execution_count": 5,
   "metadata": {},
   "outputs": [
    {
     "data": {
      "text/plain": [
       "False"
      ]
     },
     "execution_count": 5,
     "metadata": {},
     "output_type": "execute_result"
    }
   ],
   "source": [
    "3**9<113*152"
   ]
  },
  {
   "cell_type": "markdown",
   "metadata": {},
   "source": [
    "Which tells us that $3^9$ is greater than or equal to $113\\times152$. To confirm, we could evaluate each side:"
   ]
  },
  {
   "cell_type": "code",
   "execution_count": 6,
   "metadata": {},
   "outputs": [
    {
     "data": {
      "text/plain": [
       "19683"
      ]
     },
     "execution_count": 6,
     "metadata": {},
     "output_type": "execute_result"
    }
   ],
   "source": [
    "3**9"
   ]
  },
  {
   "cell_type": "code",
   "execution_count": 7,
   "metadata": {},
   "outputs": [
    {
     "data": {
      "text/plain": [
       "17176"
      ]
     },
     "execution_count": 7,
     "metadata": {},
     "output_type": "execute_result"
    }
   ],
   "source": [
    "113*152"
   ]
  },
  {
   "cell_type": "markdown",
   "metadata": {},
   "source": [
    "## Lesson 5 - String Types in Python"
   ]
  },
  {
   "cell_type": "markdown",
   "metadata": {},
   "source": [
    "### Exercise\n",
    "\n",
    "Use each of the strings introduced above in a print command and consider the output. For example, does the format of the string change the output? What happens if the string is longer than the line where it is printed?\n",
    "\n",
    "#### Solution\n",
    "\n",
    "The strings introduced in the reading are:"
   ]
  },
  {
   "cell_type": "code",
   "execution_count": 8,
   "metadata": {},
   "outputs": [
    {
     "name": "stdout",
     "output_type": "stream",
     "text": [
      "This is a string.\n",
      "So is this!\n",
      "This string contains a quote symbol, but it's not the end of the string.\n",
      " Triple quoted strings provide \n",
      "\n",
      "    an easy way of incorporating \n",
      "\n",
      "    chunks of formatted material into a program file.\n",
      "Special characters like 'newlines' \n",
      " and 'tabs' \t can be included by use of backslashes\n"
     ]
    }
   ],
   "source": [
    "print('This is a string.')\n",
    "print(\"So is this!\")\n",
    "print(\"This string contains a quote symbol, but it's not the end of the string.\")\n",
    "print(\"\"\" Triple quoted strings provide \n",
    "\n",
    "    an easy way of incorporating \n",
    "\n",
    "    chunks of formatted material into a program file.\"\"\")\n",
    "print(\"Special characters like 'newlines' \\n and 'tabs' \\t can be included by use of backslashes\")"
   ]
  },
  {
   "cell_type": "markdown",
   "metadata": {},
   "source": [
    "The formatting (i.e. the line breaks and spacing) of the fourth string is captured by the print statement, and the new line and tab characters add additional spacing to the final example. If none of the above examples are longer than where they're printed, you might try your own example. Using this text:"
   ]
  },
  {
   "cell_type": "code",
   "execution_count": 9,
   "metadata": {},
   "outputs": [
    {
     "name": "stdout",
     "output_type": "stream",
     "text": [
      "The formatting (i.e. the line breaks and spacing) of the fourth string is captured by the print statement, and the new line and tab characters add additional spacing to the final example. If none of the above examples are longer than where they're printed, you might try your own example. Using this text:\n"
     ]
    }
   ],
   "source": [
    "print(\"The formatting (i.e. the line breaks and spacing) of the fourth string is captured by the print statement, and the new line and tab characters add additional spacing to the final example. If none of the above examples are longer than where they're printed, you might try your own example. Using this text:\")"
   ]
  },
  {
   "cell_type": "markdown",
   "metadata": {},
   "source": [
    "Which (should) wrap the text, rather than continuing to print off screen.\n",
    "\n",
    "### Exercise\n",
    "\n",
    "In Python, which is smaller \"post office\" or \"post-haste\"?\n",
    "\n",
    "#### Solution"
   ]
  },
  {
   "cell_type": "code",
   "execution_count": 10,
   "metadata": {},
   "outputs": [
    {
     "data": {
      "text/plain": [
       "True"
      ]
     },
     "execution_count": 10,
     "metadata": {},
     "output_type": "execute_result"
    }
   ],
   "source": [
    "\"post office\" < \"post-haste\""
   ]
  },
  {
   "cell_type": "markdown",
   "metadata": {},
   "source": [
    "So Python considers a space less than a hyphen.\n",
    "\n",
    "### Exercises\n",
    "1. Are startswith and endswith case sensitive?\n",
    "2. Use split and len to count how many words there are in the sentence \"You must be the change you wish to see in the world\". Hint: you can use the output of split as the argument of len.\n",
    "3. Use split and join to remove the hyphen characters in the sentence \"I find the use of hyphens counter-intuitive and not straight-forward\".\n",
    "\n",
    "#### Solution\n",
    "\n",
    "1. `startswith` and `endswith` are case sensitive:"
   ]
  },
  {
   "cell_type": "code",
   "execution_count": 11,
   "metadata": {},
   "outputs": [
    {
     "data": {
      "text/plain": [
       "False"
      ]
     },
     "execution_count": 11,
     "metadata": {},
     "output_type": "execute_result"
    }
   ],
   "source": [
    "'fundamentals of programming'.startswith('Fun')"
   ]
  },
  {
   "cell_type": "code",
   "execution_count": 12,
   "metadata": {},
   "outputs": [
    {
     "data": {
      "text/plain": [
       "False"
      ]
     },
     "execution_count": 12,
     "metadata": {},
     "output_type": "execute_result"
    }
   ],
   "source": [
    "'FUNdamentals of programming'.startswith('fun')"
   ]
  },
  {
   "cell_type": "code",
   "execution_count": 13,
   "metadata": {},
   "outputs": [
    {
     "data": {
      "text/plain": [
       "False"
      ]
     },
     "execution_count": 13,
     "metadata": {},
     "output_type": "execute_result"
    }
   ],
   "source": [
    "'slaughter'.endswith('LAughter')"
   ]
  },
  {
   "cell_type": "code",
   "execution_count": 14,
   "metadata": {},
   "outputs": [
    {
     "data": {
      "text/plain": [
       "False"
      ]
     },
     "execution_count": 14,
     "metadata": {},
     "output_type": "execute_result"
    }
   ],
   "source": [
    "'sLaughter'.endswith('LAughter')"
   ]
  },
  {
   "cell_type": "markdown",
   "metadata": {},
   "source": [
    "2. There are 12 words in the sentence \"You must be the change you wish to see in the world\", which we can do by using the method `split` to turn the string into a list of words, then use `len` to count the number of elements in the list:  "
   ]
  },
  {
   "cell_type": "code",
   "execution_count": 15,
   "metadata": {},
   "outputs": [
    {
     "data": {
      "text/plain": [
       "12"
      ]
     },
     "execution_count": 15,
     "metadata": {},
     "output_type": "execute_result"
    }
   ],
   "source": [
    "len(\"You must be the change you wish to see in the world\".split())"
   ]
  },
  {
   "cell_type": "markdown",
   "metadata": {},
   "source": [
    "3. We can split the sentence \"I find the use of hyphens counter-intuitive and not straight-forward\" up at the hyphens, then join using an empty string:"
   ]
  },
  {
   "cell_type": "code",
   "execution_count": 16,
   "metadata": {},
   "outputs": [
    {
     "data": {
      "text/plain": [
       "'I find the use of hyphens counter intuitive and not straight forward'"
      ]
     },
     "execution_count": 16,
     "metadata": {},
     "output_type": "execute_result"
    }
   ],
   "source": [
    "' '.join(\"I find the use of hyphens counter-intuitive and not straight-forward\".split('-'))"
   ]
  },
  {
   "cell_type": "markdown",
   "metadata": {},
   "source": [
    "### Exercises (f-strings)\n",
    "\n",
    "1. Does the order in which the options are specified matter?\n",
    "2. Does the total width specified for a float include the space for the decimal place?\n",
    "3. What happens if the total width specified for a float is less than the width of the float?\n",
    "4. The b option converts a decimal integer to binary, but does the d option convert binary to decimal?\n",
    "5. There are additional formatting options to those described above. What do you think the formatting options do in f'{12345.678:*<+15,.4f}'?\n",
    "\n",
    "#### Solution\n",
    "\n",
    "1. Yes, order matters, for example, we can't put the left align character after specifying fixed point notation:"
   ]
  },
  {
   "cell_type": "code",
   "execution_count": 17,
   "metadata": {},
   "outputs": [
    {
     "ename": "ValueError",
     "evalue": "Invalid format specifier",
     "output_type": "error",
     "traceback": [
      "\u001b[0;31m---------------------------------------------------------------------------\u001b[0m",
      "\u001b[0;31mValueError\u001b[0m                                Traceback (most recent call last)",
      "\u001b[0;32m/var/folders/g3/dq4440814dn1yjgr8fln3qsr0000gn/T/ipykernel_43614/1836101969.py\u001b[0m in \u001b[0;36m<module>\u001b[0;34m\u001b[0m\n\u001b[1;32m      1\u001b[0m \u001b[0;31m# This produces an error\u001b[0m\u001b[0;34m\u001b[0m\u001b[0;34m\u001b[0m\u001b[0m\n\u001b[0;32m----> 2\u001b[0;31m \u001b[0;34mf'{1/7:20.12f<}'\u001b[0m\u001b[0;34m\u001b[0m\u001b[0;34m\u001b[0m\u001b[0m\n\u001b[0m",
      "\u001b[0;31mValueError\u001b[0m: Invalid format specifier"
     ]
    }
   ],
   "source": [
    "# This produces an error\n",
    "f'{1/7:20.12f<}'"
   ]
  },
  {
   "cell_type": "markdown",
   "metadata": {},
   "source": [
    "2. Yes, the width includes the decimal point. In the example below we fill empty space with 0's and the total width is 16 characters:"
   ]
  },
  {
   "cell_type": "code",
   "execution_count": 18,
   "metadata": {},
   "outputs": [
    {
     "data": {
      "text/plain": [
       "'000.142857142857'"
      ]
     },
     "execution_count": 18,
     "metadata": {},
     "output_type": "execute_result"
    }
   ],
   "source": [
    "f'{1/7:016.12f}'"
   ]
  },
  {
   "cell_type": "markdown",
   "metadata": {},
   "source": [
    "3. Python is quite for giving, so it will increase the width to ensure the number of decimal places is correct. In the example below, the width is specified as 5, but the string returned has 7 characters width."
   ]
  },
  {
   "cell_type": "code",
   "execution_count": 19,
   "metadata": {},
   "outputs": [
    {
     "data": {
      "text/plain": [
       "'14.2857'"
      ]
     },
     "execution_count": 19,
     "metadata": {},
     "output_type": "execute_result"
    }
   ],
   "source": [
    "f'{100/7:5.4f}'"
   ]
  },
  {
   "cell_type": "markdown",
   "metadata": {},
   "source": [
    "4. A number with just zeros and ones is not cast into a binary number, since it could also be a decimal number:"
   ]
  },
  {
   "cell_type": "code",
   "execution_count": 20,
   "metadata": {},
   "outputs": [
    {
     "data": {
      "text/plain": [
       "'10011010010'"
      ]
     },
     "execution_count": 20,
     "metadata": {},
     "output_type": "execute_result"
    }
   ],
   "source": [
    "f'{10011010010:d}'"
   ]
  },
  {
   "cell_type": "markdown",
   "metadata": {},
   "source": [
    "However, a number can be specified as binary by preceeding it by `0b`, and this will be converted to decimal:"
   ]
  },
  {
   "cell_type": "code",
   "execution_count": 21,
   "metadata": {},
   "outputs": [
    {
     "data": {
      "text/plain": [
       "'1234'"
      ]
     },
     "execution_count": 21,
     "metadata": {},
     "output_type": "execute_result"
    }
   ],
   "source": [
    "f'{0b10011010010:d}'"
   ]
  },
  {
   "cell_type": "code",
   "execution_count": 22,
   "metadata": {},
   "outputs": [
    {
     "data": {
      "text/plain": [
       "'10011010010'"
      ]
     },
     "execution_count": 22,
     "metadata": {},
     "output_type": "execute_result"
    }
   ],
   "source": [
    "f'{1234:b}'"
   ]
  },
  {
   "cell_type": "markdown",
   "metadata": {},
   "source": [
    "5. The code given produces the following"
   ]
  },
  {
   "cell_type": "code",
   "execution_count": 23,
   "metadata": {},
   "outputs": [
    {
     "data": {
      "text/plain": [
       "'+12,345.6780***'"
      ]
     },
     "execution_count": 23,
     "metadata": {},
     "output_type": "execute_result"
    }
   ],
   "source": [
    "f'{12345.678:*<+15,.4f}'"
   ]
  },
  {
   "cell_type": "markdown",
   "metadata": {},
   "source": [
    "Here the `*` character isn't a special character, but the first character here is used to fill any additional space, as can be seen on the right of the output. The `<` left aligns, the `+` ensures the number is signed, the `15` is how many characters should be used, the `,` splits up thousands with a comma, and the `.4f` specifies that the output is fixed point notation with four decimal places.\n",
    "\n",
    "# Lesson 6 - Boolean and None Types in Python\n",
    "\n",
    "### Exercise"
   ]
  },
  {
   "cell_type": "code",
   "execution_count": 24,
   "metadata": {},
   "outputs": [
    {
     "name": "stdout",
     "output_type": "stream",
     "text": [
      "I'm too hot!\n"
     ]
    }
   ],
   "source": [
    "temp=22\n",
    "wearing_coat=True\n",
    "if temp > 27 or (temp > 20 and wearing_coat) :\n",
    "    print( \"I'm too hot!\" )"
   ]
  },
  {
   "cell_type": "markdown",
   "metadata": {},
   "source": [
    "In the example code above, experiment with the numerical value of the variable `temp` and the Boolean value of the variable `wearing_coat` to see when \"I'm too hot!\" is printed.\n",
    "\n",
    "#### Solution\n",
    "\n",
    "You should try changing the values, for example, you could make `temp=27` and `wearing_coat=False`, which produces no output:"
   ]
  },
  {
   "cell_type": "code",
   "execution_count": 25,
   "metadata": {},
   "outputs": [],
   "source": [
    "temp=27\n",
    "wearing_coat=False\n",
    "if temp > 27 or (temp > 20 and wearing_coat) :\n",
    "    print( \"I'm too hot!\" )"
   ]
  },
  {
   "cell_type": "markdown",
   "metadata": {},
   "source": [
    "### Exercise\n",
    "\n",
    "How can the or operator be produced from a combination of the not and and operators? Hint: copy the code above to the cell below and replace A or B in the f-string in the print statement with combinations of not and and with the variables A and B, using brackets if necessary. Hint: compare the truth table for A or B with the truth table for A and B.\n",
    "\n",
    "#### Solution\n",
    "\n",
    "The truth table for `or` (which is given) is:"
   ]
  },
  {
   "cell_type": "code",
   "execution_count": 26,
   "metadata": {},
   "outputs": [
    {
     "name": "stdout",
     "output_type": "stream",
     "text": [
      "A\tB\tA or B\n",
      "------------------------\n",
      "False\tFalse\tFalse\n",
      "False\tTrue\tTrue\n",
      "True\tFalse\tTrue\n",
      "True\tTrue\tTrue\n"
     ]
    }
   ],
   "source": [
    "print(f'A\\tB\\tA or B')\n",
    "print('-'*3*8)\n",
    "for A in [False,True]:\n",
    "    for B in [False,True]:\n",
    "        print(f'{A}\\t{B}\\t{A or B}')"
   ]
  },
  {
   "cell_type": "markdown",
   "metadata": {},
   "source": [
    "Changing this to `and` gives:"
   ]
  },
  {
   "cell_type": "code",
   "execution_count": 27,
   "metadata": {},
   "outputs": [
    {
     "name": "stdout",
     "output_type": "stream",
     "text": [
      "A\tB\tA or B\n",
      "------------------------\n",
      "False\tFalse\tFalse\n",
      "False\tTrue\tFalse\n",
      "True\tFalse\tFalse\n",
      "True\tTrue\tTrue\n"
     ]
    }
   ],
   "source": [
    "print(f'A\\tB\\tA or B')\n",
    "print('-'*3*8)\n",
    "for A in [False,True]:\n",
    "    for B in [False,True]:\n",
    "        # We only need to change or to and in the print statement: \n",
    "        print(f'{A}\\t{B}\\t{A and B}')"
   ]
  },
  {
   "cell_type": "markdown",
   "metadata": {},
   "source": [
    "We see that this is the opposite of what we want, so if we apply `not` to the result of `A and B`, we will get the truth table for `or`. "
   ]
  },
  {
   "cell_type": "code",
   "execution_count": 28,
   "metadata": {},
   "outputs": [
    {
     "name": "stdout",
     "output_type": "stream",
     "text": [
      "A\tB\tA or B\n",
      "------------------------\n",
      "False\tFalse\tTrue\n",
      "False\tTrue\tTrue\n",
      "True\tFalse\tTrue\n",
      "True\tTrue\tFalse\n"
     ]
    }
   ],
   "source": [
    "print(f'A\\tB\\tA or B')\n",
    "print('-'*3*8)\n",
    "for A in [False,True]:\n",
    "    for B in [False,True]:\n",
    "        print(f'{A}\\t{B}\\t{not (A and B)}')"
   ]
  },
  {
   "cell_type": "markdown",
   "metadata": {},
   "source": [
    "Note that we have to put brackets around `A and B` for this to evaluate correctly.\n",
    "\n",
    "# Lesson 7 - Structured Data Types in Python\n",
    "\n",
    "### Exercise\n",
    "\n",
    "Try out some different index values to access items in `list_of_numbers` defined below. Check that the items you access match their position in the list."
   ]
  },
  {
   "cell_type": "code",
   "execution_count": 29,
   "metadata": {},
   "outputs": [
    {
     "data": {
      "text/plain": [
       "1"
      ]
     },
     "execution_count": 29,
     "metadata": {},
     "output_type": "execute_result"
    }
   ],
   "source": [
    "list_of_numbers = [1, 3, 7, 9, 12, 10, 2]\n",
    "list_of_numbers[0]"
   ]
  },
  {
   "cell_type": "markdown",
   "metadata": {},
   "source": [
    "#### Solution\n",
    "\n",
    "You should find that using index 0 returns 1, index 1 returns 3, etc.\n",
    "\n",
    "### Exercise (Modifying a list)\n",
    "\n",
    "Use the commands above to modify `list_of_numbers` so that the resulting list has two copies of `list_of_numbers`, then insert a 0 between these copies and finally replace the 11th entry (i.e. index 10) with -1.\n",
    "\n",
    "#### Solution\n",
    "\n",
    "We can use `extend`, `insert` and indexing to achieve this:"
   ]
  },
  {
   "cell_type": "code",
   "execution_count": 30,
   "metadata": {},
   "outputs": [
    {
     "name": "stdout",
     "output_type": "stream",
     "text": [
      "[1, 3, 7, 9, 12, 10, 2, 0, 1, 3, -1, 9, 12, 10, 2]\n"
     ]
    }
   ],
   "source": [
    "list_of_numbers = [1, 3, 7, 9, 12, 10, 2]\n",
    "list_of_numbers.extend(list_of_numbers)\n",
    "list_of_numbers.insert(7,0)\n",
    "list_of_numbers[10]=-1\n",
    "print(list_of_numbers)"
   ]
  },
  {
   "cell_type": "code",
   "execution_count": null,
   "metadata": {},
   "outputs": [],
   "source": []
  }
 ],
 "metadata": {
  "kernelspec": {
   "display_name": "Python 3",
   "language": "python",
   "name": "python3"
  },
  "language_info": {
   "codemirror_mode": {
    "name": "ipython",
    "version": 3
   },
   "file_extension": ".py",
   "mimetype": "text/x-python",
   "name": "python",
   "nbconvert_exporter": "python",
   "pygments_lexer": "ipython3",
   "version": "3.7.6"
  }
 },
 "nbformat": 4,
 "nbformat_minor": 5
}
