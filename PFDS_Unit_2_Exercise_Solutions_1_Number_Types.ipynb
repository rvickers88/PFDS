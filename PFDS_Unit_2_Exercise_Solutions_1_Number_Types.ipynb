{
 "cells": [
  {
   "cell_type": "markdown",
   "id": "fda24729",
   "metadata": {},
   "source": [
    "# Exercise Solutions - Number Types"
   ]
  },
  {
   "cell_type": "markdown",
   "id": "e376781f",
   "metadata": {},
   "source": [
    "### Exercise\n",
    "\n",
    "Experiment with combining numbers represented as `int` and `float` using the arithemetic operators `+`, `-`, `*` and `/`. Try to determine what operations result in an `int` and what result in a `float`. For example, multiplying an `int` with another `int` results in an `int`:"
   ]
  },
  {
   "cell_type": "code",
   "execution_count": 1,
   "id": "511e9db2",
   "metadata": {},
   "outputs": [
    {
     "data": {
      "text/plain": [
       "8"
      ]
     },
     "execution_count": 1,
     "metadata": {},
     "output_type": "execute_result"
    }
   ],
   "source": [
    "2*4"
   ]
  },
  {
   "cell_type": "markdown",
   "id": "f3333f3e",
   "metadata": {},
   "source": [
    "#### Solution\n",
    "\n",
    "There are lots of things to try here, so this solution isn't exhaustive. If we change one of the `int`s to a `float` in the Exercise suggestion, we see that the result is a `float`:"
   ]
  },
  {
   "cell_type": "code",
   "execution_count": 2,
   "id": "c490190b",
   "metadata": {},
   "outputs": [
    {
     "data": {
      "text/plain": [
       "8.0"
      ]
     },
     "execution_count": 2,
     "metadata": {},
     "output_type": "execute_result"
    }
   ],
   "source": [
    "2.0*4"
   ]
  },
  {
   "cell_type": "markdown",
   "id": "31330888",
   "metadata": {},
   "source": [
    "If you replace the `*` operator with `+` and `-`, you'll see the same thing, i.e. that the result is an `int` if both are `int`s, but is a `float` if at least one is a `float`. This if different for the `/` (divide) operator, where the result is always a `float` (even if the result is a whole number)."
   ]
  },
  {
   "cell_type": "code",
   "execution_count": 3,
   "id": "4c4fa69b",
   "metadata": {},
   "outputs": [
    {
     "data": {
      "text/plain": [
       "2.0"
      ]
     },
     "execution_count": 3,
     "metadata": {},
     "output_type": "execute_result"
    }
   ],
   "source": [
    "4/2"
   ]
  },
  {
   "cell_type": "markdown",
   "id": "19973a5f",
   "metadata": {},
   "source": [
    "### Exercise: \n",
    "    \n",
    "What is the value of `int( -1.7 )`?\n",
    "\n",
    "#### Solution"
   ]
  },
  {
   "cell_type": "code",
   "execution_count": 4,
   "id": "69642088",
   "metadata": {},
   "outputs": [
    {
     "data": {
      "text/plain": [
       "-1"
      ]
     },
     "execution_count": 4,
     "metadata": {},
     "output_type": "execute_result"
    }
   ],
   "source": [
    "int(-1.7)"
   ]
  },
  {
   "cell_type": "markdown",
   "id": "0dba8037",
   "metadata": {},
   "source": [
    "This shows that casting into an `int` is not the same as rounding, but it also isn't the same as \"flooring\" a number, which returns the largest integer not greater than the number (which in this case would be -2)."
   ]
  },
  {
   "cell_type": "markdown",
   "id": "78505f1a",
   "metadata": {},
   "source": [
    "### Exercise\n",
    "\n",
    "Use the comparison relations to determine whether $3^9$ is less than $113\\times152$. \n",
    "\n",
    "#### Solution\n",
    "\n",
    "This can be implemented with `<`, `<=`, `>` or `>=`. For example: "
   ]
  },
  {
   "cell_type": "code",
   "execution_count": 5,
   "id": "383b7288",
   "metadata": {},
   "outputs": [
    {
     "data": {
      "text/plain": [
       "False"
      ]
     },
     "execution_count": 5,
     "metadata": {},
     "output_type": "execute_result"
    }
   ],
   "source": [
    "3**9<113*152"
   ]
  },
  {
   "cell_type": "markdown",
   "id": "98135760",
   "metadata": {},
   "source": [
    "Which tells us that $3^9$ is greater than or equal to $113\\times152$. To confirm, we could evaluate each side:"
   ]
  },
  {
   "cell_type": "code",
   "execution_count": 6,
   "id": "78e0bfb2",
   "metadata": {},
   "outputs": [
    {
     "data": {
      "text/plain": [
       "19683"
      ]
     },
     "execution_count": 6,
     "metadata": {},
     "output_type": "execute_result"
    }
   ],
   "source": [
    "3**9"
   ]
  },
  {
   "cell_type": "code",
   "execution_count": 7,
   "id": "ab933c26",
   "metadata": {},
   "outputs": [
    {
     "data": {
      "text/plain": [
       "17176"
      ]
     },
     "execution_count": 7,
     "metadata": {},
     "output_type": "execute_result"
    }
   ],
   "source": [
    "113*152"
   ]
  }
 ],
 "metadata": {
  "kernelspec": {
   "display_name": "Python 3 (ipykernel)",
   "language": "python",
   "name": "python3"
  },
  "language_info": {
   "codemirror_mode": {
    "name": "ipython",
    "version": 3
   },
   "file_extension": ".py",
   "mimetype": "text/x-python",
   "name": "python",
   "nbconvert_exporter": "python",
   "pygments_lexer": "ipython3",
   "version": "3.8.13"
  }
 },
 "nbformat": 4,
 "nbformat_minor": 5
}
