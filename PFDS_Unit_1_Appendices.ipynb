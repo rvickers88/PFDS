{
 "cells": [
  {
   "cell_type": "markdown",
   "id": "49b3a279",
   "metadata": {},
   "source": [
    "<h1>Unit 1: Appendices"
   ]
  },
  {
   "cell_type": "markdown",
   "id": "e5391d0b",
   "metadata": {},
   "source": [
    "<h2> Figure: 1.6a"
   ]
  },
  {
   "cell_type": "code",
   "execution_count": 4,
   "id": "1d012662",
   "metadata": {},
   "outputs": [
    {
     "name": "stdout",
     "output_type": "stream",
     "text": [
      "11\n"
     ]
    }
   ],
   "source": [
    "# Example 1\n",
    " \n",
    "number_A = 4\n",
    "number_B = 7\n",
    " \n",
    "'''\n",
    "set the variable, total, to the sum of the values stored in \n",
    "these two variables\n",
    "'''\n",
    "total = number_A + number_B\n",
    " \n",
    "# print the value of total\n",
    "print( total )"
   ]
  },
  {
   "cell_type": "markdown",
   "id": "8c8f402c",
   "metadata": {},
   "source": [
    "<h2>Figure: 1.6b"
   ]
  },
  {
   "cell_type": "code",
   "execution_count": 2,
   "id": "a03b1e67",
   "metadata": {},
   "outputs": [
    {
     "name": "stdout",
     "output_type": "stream",
     "text": [
      "11\n"
     ]
    }
   ],
   "source": [
    "# Example 2 \n",
    " \n",
    "cachucath  = 4\n",
    "cachucwn   = 7\n",
    " \n",
    "'''\n",
    "set the variable, omemiserum, to the sum of the values \n",
    "stored in these two variables\n",
    "''' \n",
    "omemiserum = cachucath + cachucwn\n",
    " \n",
    "# print the value of total\n",
    "print( omemiserum )"
   ]
  },
  {
   "cell_type": "markdown",
   "id": "737dfbfb",
   "metadata": {},
   "source": [
    "<h2>Figure: 1.6c"
   ]
  },
  {
   "cell_type": "code",
   "execution_count": null,
   "id": "b1ebc452",
   "metadata": {},
   "outputs": [],
   "source": [
    "# Example 2 \n",
    " \n",
    "cachucath  = 4\n",
    "cachucwn   = 7\n",
    " \n",
    "'''\n",
    "set the variable, omemiserum, to the sum of the values \n",
    "stored in these two variables\n",
    "''' \n",
    "omemiserum = cachucath + cachucwn\n",
    " \n",
    "# print the value of total\n",
    "print( omemiserum )"
   ]
  }
 ],
 "metadata": {
  "kernelspec": {
   "display_name": "Python 3 (ipykernel)",
   "language": "python",
   "name": "python3"
  },
  "language_info": {
   "codemirror_mode": {
    "name": "ipython",
    "version": 3
   },
   "file_extension": ".py",
   "mimetype": "text/x-python",
   "name": "python",
   "nbconvert_exporter": "python",
   "pygments_lexer": "ipython3",
   "version": "3.9.13"
  }
 },
 "nbformat": 4,
 "nbformat_minor": 5
}
