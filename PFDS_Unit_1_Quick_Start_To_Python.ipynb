{
 "cells": [
  {
   "cell_type": "markdown",
   "id": "2cf833f5",
   "metadata": {},
   "source": [
    "# Quick start guide to Python\n",
    "\n",
    "This notebook briefly introduces some of the fundamental programming concepts that are covered in the Programming for Data Science course. The intention is to get you interacting with code right from the start of your studies. You will see the sorts of things Python programs can do so that you can start to think about how you could use Python to solve problems of interest to you. \n",
    "\n",
    "After working through this notebook you're are **not** expected to understand all of the concepts in detail, or to be able to apply them to new problems. The lessons following this notebook will go through everything covered in this notebook in more detail. You can use this notebook as a reminder for the Python syntax covered. \n",
    "\n",
    "This notebook should also help people who have coded before in another language to get started quickly with Python. While some of the concepts in the following lessons may be familiar to people who have programmed before, it's still worth going through them to get familiar with the way things work in Python.\n",
    "\n",
    "In the *First look at Jupyter Notebook*, you will have seen Markdown cells like this one, which format text acording to the markdown notation. You can run cells by clicking on them and pressing ``shift``and ``Enter`` on your keyboard.\n",
    "\n",
    "The programming concepts introduced in this notebook use a relatively simple example that might represent the kind of problem you may encounter as a data analyst or data scientist.\n",
    "\n",
    "## Identifying people with dangerous resting heart rates\n",
    "\n",
    "A healthy adult resting heart rate should be between 60 and 100 beats per minute (bpm), and anything outside of this range could indicate potential health problems (for more information, see [The British Heart Foundation](https://www.bhf.org.uk) for example).\n",
    "\n",
    "Imagine you have been given a list of measurements of people's heart rates and you've been asked to identify those who have dangerous heart rates, i.e. are below 60 bpm or above 100 bpm. If this list wasn't very long, you could do this by hand. Now let's write some code..."
   ]
  },
  {
   "cell_type": "code",
   "execution_count": 1,
   "id": "db9b8e2b",
   "metadata": {},
   "outputs": [],
   "source": [
    "# This is a comment, which is a piece of text to \n",
    "# help us understand the code. Anything after a # \n",
    "# will be a comment and is ignored by the computer\n",
    "# when the code runs.\n",
    "#\n",
    "# Python can store lists of numbers like this:\n",
    "bpm_list=[ 63, 93, 83, 57, 70, 103, 43, 72]"
   ]
  },
  {
   "cell_type": "markdown",
   "id": "569d7822",
   "metadata": {},
   "source": [
    "Here we have created a *variable* called `bpm_list` and assigned the list of numbers 63, 93, 83, 57, ... to that variable.\n",
    "\n",
    "It's easy enough to see from this list the people who have dangerous heart rates (for example, the 4th number in the list is 57, what are the other dangerous heart rates\n",
    "?). However, if this list was much longer, it would become extremely laborious to go through each number to see if it was within the healthy range or not. This is the kind of job a computer program can do for us.\n",
    "\n",
    "If there were lots more numbers, we wouldn't want to type them all in by hand either. We would probably also be given them as a file on our computer. You should have access to a file called `heart_rate_data.csv` which contains a long list of heart rates in bpm. This data isn't real data, and how this data was made is described later in this notebook. Using \"synthetic\" data like this is good to help us develop our computer programs, and it also avoids any ethical issues about sharing people's data. But you could imagine getting heart rate data in this form, and then being able to apply the computer programs developed here to it in much the same way.\n",
    "\n",
    "Python has built in ways to read the file `heart_rate_data.csv`, but other people have also created programs for us to read files with certain formats. There is a lot of additional functionality like this that can be imported into Python, and here we'll use a package called `numpy`, which provides a broad range of useful functions, mostly for *numerical* computations."
   ]
  },
  {
   "cell_type": "code",
   "execution_count": 2,
   "id": "ca047923",
   "metadata": {},
   "outputs": [],
   "source": [
    "# First we import the package numpy and call it np\n",
    "import numpy as np\n",
    "\n",
    "# To use functions from numpy, we \"np.\" and then the \n",
    "# name of the function we want to use. The function\n",
    "# we are going to use here is called 'loadtxt':\n",
    "bpm_array=np.loadtxt('heart_rate_data.csv')\n",
    "# Notice how we told the function what file to read by\n",
    "# including the name in quotation marks within round\n",
    "# brackets."
   ]
  },
  {
   "cell_type": "markdown",
   "id": "a77ebae4",
   "metadata": {},
   "source": [
    "We have created a variable called `bpm_array` in which all of the heart rate data from the file `heart_rate_data.csv` is stored. This variable is a \"numpy array\" (and we will refer to it as just an array), which behaves quite similarly to the Python list we used above.\n",
    "\n",
    "First we might want to know how many heart rate records there are, and we can do this by determining the length of the array using a function called `len`:"
   ]
  },
  {
   "cell_type": "code",
   "execution_count": 3,
   "id": "cf2c6962",
   "metadata": {},
   "outputs": [
    {
     "data": {
      "text/plain": [
       "138"
      ]
     },
     "execution_count": 3,
     "metadata": {},
     "output_type": "execute_result"
    }
   ],
   "source": [
    "len(bpm_array)"
   ]
  },
  {
   "cell_type": "markdown",
   "id": "63a912b6",
   "metadata": {},
   "source": [
    "So there are 138 entries in the array. One way to look at what the variable `bpm_array` is to use the `print` command:"
   ]
  },
  {
   "cell_type": "code",
   "execution_count": 4,
   "id": "389f4bc3",
   "metadata": {},
   "outputs": [
    {
     "name": "stdout",
     "output_type": "stream",
     "text": [
      "[ 63.  93.  83.  57.  70. 103.  43.  72.  97.  66.  69.  77. 100.  69.\n",
      "  72.  72. 111. 110.  93.  84.  89. 100.  65.  96.  60.  69.  92.  58.\n",
      "  77.  66.  75.  38.  53.  68.  92.  76.  79.  89.  66.  83.  67.  54.\n",
      "  73.  87.  84.  78. 113.  85.  93. 111.  60.  64. 104.  67.  79.  94.\n",
      "  92. 104. 100.  94.  67.  90.  83.  59.  99.  90.  79.  75.  61.  81.\n",
      "  85.  67.  95.  63.  48.  94.  73.  77.  66.  55.  97.  69. 103.  90.\n",
      "  74.  63.  68.  61. 109.  81.  95.  60.  81.  96.  74.  94.  63.  59.\n",
      "  84.  73.  88.  50.  89. 116.  78.  79.  81.  52.  85.  55.  72.  97.\n",
      "  68.  86.  93.  83.  59.  74. 107.  49.  75.  71.  80.  89. 102.  75.\n",
      "  90.  86.  85.  70.  64.  63.  68.  83.  90.  83.  71. 105.]\n"
     ]
    }
   ],
   "source": [
    "print(bpm_array)"
   ]
  },
  {
   "cell_type": "markdown",
   "id": "ee957966",
   "metadata": {},
   "source": [
    "(You might like to check that there really are 138 entries in the array.)\n",
    "\n",
    "We can also look at these individually by using an index number (i.e. the position in the array) within square brackets, so the first number is"
   ]
  },
  {
   "cell_type": "code",
   "execution_count": 5,
   "id": "a23e72c2",
   "metadata": {},
   "outputs": [
    {
     "data": {
      "text/plain": [
       "63.0"
      ]
     },
     "execution_count": 5,
     "metadata": {},
     "output_type": "execute_result"
    }
   ],
   "source": [
    "bpm_array[0]"
   ]
  },
  {
   "cell_type": "markdown",
   "id": "a4ac58a4",
   "metadata": {},
   "source": [
    "Note how the first number is index 0. We can also look at a range of numbers, and to look at the first 10 we write:"
   ]
  },
  {
   "cell_type": "code",
   "execution_count": 6,
   "id": "66f271c9",
   "metadata": {},
   "outputs": [
    {
     "data": {
      "text/plain": [
       "array([ 63.,  93.,  83.,  57.,  70., 103.,  43.,  72.,  97.,  66.])"
      ]
     },
     "execution_count": 6,
     "metadata": {},
     "output_type": "execute_result"
    }
   ],
   "source": [
    "bpm_array[:10]"
   ]
  },
  {
   "cell_type": "markdown",
   "id": "71d6ee1d",
   "metadata": {},
   "source": [
    "We could read through the output from the `print` command above and identify all the cases of dangerous heart rates, but we might make a mistake and it would take quite a long time. So let's get the computer to do it for us. \n",
    "\n",
    "Computers are very good at repeating things over and over in a **loop**, i.e. running some program code, then looping back to the start and repeating this many times. One way to do this in Python is using a `for` loop. To test out how this works, we can start by printing all of the elements in the array, as we did above."
   ]
  },
  {
   "cell_type": "code",
   "execution_count": 7,
   "id": "2fc5d1ed",
   "metadata": {},
   "outputs": [
    {
     "name": "stdout",
     "output_type": "stream",
     "text": [
      "63.0\n",
      "93.0\n",
      "83.0\n",
      "57.0\n",
      "70.0\n",
      "103.0\n",
      "43.0\n",
      "72.0\n",
      "97.0\n",
      "66.0\n",
      "69.0\n",
      "77.0\n",
      "100.0\n",
      "69.0\n",
      "72.0\n",
      "72.0\n",
      "111.0\n",
      "110.0\n",
      "93.0\n",
      "84.0\n",
      "89.0\n",
      "100.0\n",
      "65.0\n",
      "96.0\n",
      "60.0\n",
      "69.0\n",
      "92.0\n",
      "58.0\n",
      "77.0\n",
      "66.0\n",
      "75.0\n",
      "38.0\n",
      "53.0\n",
      "68.0\n",
      "92.0\n",
      "76.0\n",
      "79.0\n",
      "89.0\n",
      "66.0\n",
      "83.0\n",
      "67.0\n",
      "54.0\n",
      "73.0\n",
      "87.0\n",
      "84.0\n",
      "78.0\n",
      "113.0\n",
      "85.0\n",
      "93.0\n",
      "111.0\n",
      "60.0\n",
      "64.0\n",
      "104.0\n",
      "67.0\n",
      "79.0\n",
      "94.0\n",
      "92.0\n",
      "104.0\n",
      "100.0\n",
      "94.0\n",
      "67.0\n",
      "90.0\n",
      "83.0\n",
      "59.0\n",
      "99.0\n",
      "90.0\n",
      "79.0\n",
      "75.0\n",
      "61.0\n",
      "81.0\n",
      "85.0\n",
      "67.0\n",
      "95.0\n",
      "63.0\n",
      "48.0\n",
      "94.0\n",
      "73.0\n",
      "77.0\n",
      "66.0\n",
      "55.0\n",
      "97.0\n",
      "69.0\n",
      "103.0\n",
      "90.0\n",
      "74.0\n",
      "63.0\n",
      "68.0\n",
      "61.0\n",
      "109.0\n",
      "81.0\n",
      "95.0\n",
      "60.0\n",
      "81.0\n",
      "96.0\n",
      "74.0\n",
      "94.0\n",
      "63.0\n",
      "59.0\n",
      "84.0\n",
      "73.0\n",
      "88.0\n",
      "50.0\n",
      "89.0\n",
      "116.0\n",
      "78.0\n",
      "79.0\n",
      "81.0\n",
      "52.0\n",
      "85.0\n",
      "55.0\n",
      "72.0\n",
      "97.0\n",
      "68.0\n",
      "86.0\n",
      "93.0\n",
      "83.0\n",
      "59.0\n",
      "74.0\n",
      "107.0\n",
      "49.0\n",
      "75.0\n",
      "71.0\n",
      "80.0\n",
      "89.0\n",
      "102.0\n",
      "75.0\n",
      "90.0\n",
      "86.0\n",
      "85.0\n",
      "70.0\n",
      "64.0\n",
      "63.0\n",
      "68.0\n",
      "83.0\n",
      "90.0\n",
      "83.0\n",
      "71.0\n",
      "105.0\n"
     ]
    }
   ],
   "source": [
    "for n in bpm_array:\n",
    "    print(n)\n",
    "    # Indentation is important in Python.\n",
    "    # Only code that has been indented will be run during the for loop.\n",
    "    # Use the tab key to indent the right amount."
   ]
  },
  {
   "cell_type": "markdown",
   "id": "da225e62",
   "metadata": {},
   "source": [
    "The `for` loop above sequentially picks out every element from the start to the end of the array `bpm_array` and asigns it to the variable `n`. Each time a number `n` is picked out, we print it using the Python function `print`.\n",
    "\n",
    "Now we want to identify which numbers are outside of the range between 60 and 100 inclusive. We can do this using an `if` statement: if the number `n` is less then 60 or if it is more than 100 then we should print it."
   ]
  },
  {
   "cell_type": "code",
   "execution_count": 8,
   "id": "05ff4c2c",
   "metadata": {},
   "outputs": [
    {
     "name": "stdout",
     "output_type": "stream",
     "text": [
      "57.0\n",
      "103.0\n",
      "43.0\n",
      "111.0\n",
      "110.0\n",
      "58.0\n",
      "38.0\n",
      "53.0\n",
      "54.0\n",
      "113.0\n",
      "111.0\n",
      "104.0\n",
      "104.0\n",
      "59.0\n",
      "48.0\n",
      "55.0\n",
      "103.0\n",
      "109.0\n",
      "59.0\n",
      "50.0\n",
      "116.0\n",
      "52.0\n",
      "55.0\n",
      "59.0\n",
      "107.0\n",
      "49.0\n",
      "102.0\n",
      "105.0\n"
     ]
    }
   ],
   "source": [
    "for n in bpm_array:\n",
    "    # If n is less than 60 or more than 100 then print it:\n",
    "    if n<60 or n>100:  \n",
    "        print(n)\n",
    "        # The code in the if statement has to be indented again"
   ]
  },
  {
   "cell_type": "markdown",
   "id": "e1d091bd",
   "metadata": {},
   "source": [
    "Now we have far fewer numbers to deal with, but we still might not want to deal with these by hand, so we could create a list with these numbers in. To do this, we start by creating an empty list, then if the number is less than 60 or more than 100, rather than print we will `append` it to the list."
   ]
  },
  {
   "cell_type": "code",
   "execution_count": 9,
   "id": "36ad2bf6",
   "metadata": {},
   "outputs": [],
   "source": [
    "dangerous_bpms=[]\n",
    "for n in bpm_array:\n",
    "    if n<60 or n>100:\n",
    "        dangerous_bpms.append(n)"
   ]
  },
  {
   "cell_type": "markdown",
   "id": "e16debbb",
   "metadata": {},
   "source": [
    "Now we can count how many dangerous bpms there are using the `len` function we saw earlier: "
   ]
  },
  {
   "cell_type": "code",
   "execution_count": 10,
   "id": "fc17e562",
   "metadata": {},
   "outputs": [
    {
     "data": {
      "text/plain": [
       "28"
      ]
     },
     "execution_count": 10,
     "metadata": {},
     "output_type": "execute_result"
    }
   ],
   "source": [
    "len(dangerous_bpms)"
   ]
  },
  {
   "cell_type": "markdown",
   "id": "3013e138",
   "metadata": {},
   "source": [
    "We should check that the values match up with those that we printed earlier, so looking at the first 10 we have:"
   ]
  },
  {
   "cell_type": "code",
   "execution_count": 11,
   "id": "f6d76a41",
   "metadata": {},
   "outputs": [
    {
     "data": {
      "text/plain": [
       "[57.0, 103.0, 43.0, 111.0, 110.0, 58.0, 38.0, 53.0, 54.0, 113.0]"
      ]
     },
     "execution_count": 11,
     "metadata": {},
     "output_type": "execute_result"
    }
   ],
   "source": [
    "dangerous_bpms[:10]"
   ]
  },
  {
   "cell_type": "markdown",
   "id": "26807da0",
   "metadata": {},
   "source": [
    "This looks good. However, we don't know whose bpm values these correspond to. Let's imagine that a person's bpm can be identified from the position they are in `bpm_array`, which we'll call their ID. To do this, we might want a 'counter' in our for loop to keep track of what position we have got to, and Python has a function called `enumerate` that let's us do this."
   ]
  },
  {
   "cell_type": "code",
   "execution_count": 12,
   "id": "b5f7f244",
   "metadata": {},
   "outputs": [],
   "source": [
    "# We'll save the dangerous bpms\n",
    "dangerous_bpms=[]\n",
    "# We'll also save the corresponding IDs\n",
    "dangerous_bpm_IDs=[]\n",
    "# Enumerate gives us a counter, which we asign to the variable i,\n",
    "# and the element in the list, which we asign to the variable n\n",
    "for i,n in enumerate(bpm_array):\n",
    "    if n<60 or n>100:\n",
    "        dangerous_bpm_IDs.append(i)\n",
    "        dangerous_bpms.append(n)"
   ]
  },
  {
   "cell_type": "markdown",
   "id": "65f18f0a",
   "metadata": {},
   "source": [
    "In each iteration of the for loop, the counter `i` is increased by one and the next element in the list is asigned to `n`. The dangerous bpms and corresponding IDs are stored in the lists `dangerous_bpm` and `dangerous_bpm_IDs` respectively. It's good to check that these match up with what we expect, so let's print the first 10 dangerous bpms:"
   ]
  },
  {
   "cell_type": "code",
   "execution_count": 13,
   "id": "a73ce737",
   "metadata": {},
   "outputs": [
    {
     "name": "stdout",
     "output_type": "stream",
     "text": [
      "[57.0, 103.0, 43.0, 111.0, 110.0, 58.0, 38.0, 53.0, 54.0, 113.0]\n",
      "[3, 5, 6, 16, 17, 27, 31, 32, 41, 46]\n"
     ]
    }
   ],
   "source": [
    "print(dangerous_bpms[:10])\n",
    "print(dangerous_bpm_IDs[:10])"
   ]
  },
  {
   "cell_type": "markdown",
   "id": "a3790d2c",
   "metadata": {},
   "source": [
    "Now we might like to print these in a way that's easy to see which ID corresponds to which bpm. We can use a for loop and the print command to do this:"
   ]
  },
  {
   "cell_type": "code",
   "execution_count": 14,
   "id": "167efeee",
   "metadata": {},
   "outputs": [
    {
     "name": "stdout",
     "output_type": "stream",
     "text": [
      "ID\tbpm\n",
      "---------------\n",
      "3 \t 57.0\n",
      "5 \t 103.0\n",
      "6 \t 43.0\n",
      "16 \t 111.0\n",
      "17 \t 110.0\n",
      "27 \t 58.0\n",
      "31 \t 38.0\n",
      "32 \t 53.0\n",
      "41 \t 54.0\n",
      "46 \t 113.0\n"
     ]
    }
   ],
   "source": [
    "# First print the headings of the table\n",
    "print('ID\\tbpm') # This uses \\t to insert a space the width of a tab\n",
    "# We can print something that looks a bit like a line using several dashes\n",
    "print('---------------')\n",
    "# Now we use a counter between 0 and 9 to access the first 10 elements in the lists\n",
    "for i in range(10):\n",
    "    print(dangerous_bpm_IDs[i],'\\t',dangerous_bpms[i])"
   ]
  },
  {
   "cell_type": "markdown",
   "id": "9b0e7e89",
   "metadata": {},
   "source": [
    "If we wanted to loop over all of the elements in the lists, we could replace `range(10)` with `range(len(dangerours_bpms))`.\n",
    "\n",
    "And it's also a good idea to check that we got the right IDs. For example, element 3 of `bpm_array` should be 57:"
   ]
  },
  {
   "cell_type": "code",
   "execution_count": 15,
   "id": "e76482ed",
   "metadata": {},
   "outputs": [
    {
     "data": {
      "text/plain": [
       "57.0"
      ]
     },
     "execution_count": 15,
     "metadata": {},
     "output_type": "execute_result"
    }
   ],
   "source": [
    "bpm_array[3]"
   ]
  },
  {
   "cell_type": "markdown",
   "id": "8b7e3ce9",
   "metadata": {},
   "source": [
    "Great!"
   ]
  },
  {
   "cell_type": "markdown",
   "id": "819f1a4a",
   "metadata": {},
   "source": [
    "## Using the data\n",
    "\n",
    "So far we have seen how to analyse our data in order to find dangerous heart rates, but we might then want to do something given what we've found. Now that we have an array of dangerous bpms, we'll look at how we might produce a letter that could be sent to each patient with a dangerous bpm to encourage them to seek medical advice. \n",
    "\n",
    "While you could imagine that this is something you might consider doing in practice, if you were considering doing it in real life, you should consider the ethics of doing it. What if the data was incorrect? What about people who are on the boarderline? What if someone knew they had a condition that resulted in high/low heart rates? Thinking about such things is important when you use data analysis to inform decisions that people make in the real world.\n",
    "\n",
    "In Python we can both read and write files. Here we'll write a plain text file that could be used as a letter informing each patient of their heart rate and what to do. So far we have dealt with numbers, but we can also deal with letters and other characters, which are called strings. A string is any text contained within single or double quotes, and we can asign it to a variable using `=` as above. For example we might want a variable that corresponds to part of the file name of the text files we're going to create:"
   ]
  },
  {
   "cell_type": "code",
   "execution_count": 16,
   "id": "faf807b0",
   "metadata": {},
   "outputs": [],
   "source": [
    "file_name='bpm_letter_id_'"
   ]
  },
  {
   "cell_type": "markdown",
   "id": "69ddf145",
   "metadata": {},
   "source": [
    "It would be good to know which file corresponds to which patient, so we could use their ID in the file name. To do this, we will need to turn their ID, which is a number, into a string. We can do this using the `str` function:"
   ]
  },
  {
   "cell_type": "code",
   "execution_count": 17,
   "id": "a9ec402e",
   "metadata": {},
   "outputs": [
    {
     "data": {
      "text/plain": [
       "'3'"
      ]
     },
     "execution_count": 17,
     "metadata": {},
     "output_type": "execute_result"
    }
   ],
   "source": [
    "str(dangerous_bpm_IDs[0])"
   ]
  },
  {
   "cell_type": "markdown",
   "id": "f4e09a32",
   "metadata": {},
   "source": [
    "(You should compare the out put of this to the output of just `dangerous_bpm_IDs[0]`)\n",
    "\n",
    "We can also combine strings using `+`, so we could create a string corresponding to the filename using"
   ]
  },
  {
   "cell_type": "code",
   "execution_count": 18,
   "id": "626f72fa",
   "metadata": {},
   "outputs": [
    {
     "data": {
      "text/plain": [
       "'bpm_letter_id_3'"
      ]
     },
     "execution_count": 18,
     "metadata": {},
     "output_type": "execute_result"
    }
   ],
   "source": [
    "file_name+str(dangerous_bpm_IDs[0])"
   ]
  },
  {
   "cell_type": "markdown",
   "id": "debbf10e",
   "metadata": {},
   "source": [
    "Now let's asign the text we want to use in the letter to some variables:"
   ]
  },
  {
   "cell_type": "code",
   "execution_count": 19,
   "id": "4f6f77f8",
   "metadata": {},
   "outputs": [],
   "source": [
    "letter_string_1='Patient ID: '\n",
    "letter_string_2='\\n\\nDear Sir or Madam, \\n\\nMedical studies suggest that healthy heart rates should be between 60 and 100 beats per minute. It has come to our attention that you have a resting heart rate of '\n",
    "letter_string_3=\", which is outside of the range of typical healthy resting heart rates. Please arrange an appointment with you doctor to discuss your health.\\n\\nYours Sincerely\\n\\nYour Doctors' Surgery\""
   ]
  },
  {
   "cell_type": "markdown",
   "id": "12213a94",
   "metadata": {},
   "source": [
    "You might need to scroll to the right to read all of the text.\n",
    "\n",
    "The content of the letter has been broken up into three different variables so that we can insert the patient ID and their bpm between these strings. \n",
    "\n",
    "In `letter_string_2` the text `\\n` is used to insert a return character to help to format the text in the letter.\n",
    "\n",
    "In `letter_string_3` double quotes are used because there is an apostrophe in the words \"Doctors' surgery\".\n",
    "\n",
    "Let's use the first patient's ID and heart rate to see what this looks like, and we'll use the `print` function so that we can see the formatting:"
   ]
  },
  {
   "cell_type": "code",
   "execution_count": 20,
   "id": "28d8d847",
   "metadata": {},
   "outputs": [
    {
     "name": "stdout",
     "output_type": "stream",
     "text": [
      "Patient ID: 3\n",
      "\n",
      "Dear Sir or Madam, \n",
      "\n",
      "Medical studies suggest that healthy heart rates should be between 60 and 100 beats per minute. It has come to our attention that you have a resting heart rate of 57.0, which is outside of the range of typical healthy resting heart rates. Please arrange an appointment with you doctor to discuss your health.\n",
      "\n",
      "Yours Sincerely\n",
      "\n",
      "Your Doctors' Surgery\n"
     ]
    }
   ],
   "source": [
    "print(letter_string_1+str(dangerous_bpm_IDs[0])+letter_string_2+str(dangerous_bpms[0])+letter_string_3)"
   ]
  },
  {
   "cell_type": "markdown",
   "id": "0d808627",
   "metadata": {},
   "source": [
    "To write this to a file, we first need to create an empty file, which we can do using the function `open`. "
   ]
  },
  {
   "cell_type": "code",
   "execution_count": 21,
   "id": "d378a663",
   "metadata": {},
   "outputs": [],
   "source": [
    "f=open(file_name+str(int(dangerous_bpm_IDs[0]))+'.txt','w')"
   ]
  },
  {
   "cell_type": "markdown",
   "id": "fd187873",
   "metadata": {},
   "source": [
    "The file we want to write to is now associated with the variable `f`. We can write to this file by using the `write` function, for example we could write the first string like this:"
   ]
  },
  {
   "cell_type": "code",
   "execution_count": 22,
   "id": "c753ce40",
   "metadata": {},
   "outputs": [
    {
     "data": {
      "text/plain": [
       "12"
      ]
     },
     "execution_count": 22,
     "metadata": {},
     "output_type": "execute_result"
    }
   ],
   "source": [
    "f.write(letter_string_1)"
   ]
  },
  {
   "cell_type": "markdown",
   "id": "eaefa0f5",
   "metadata": {},
   "source": [
    "Notice how we had to use `f.write` to write to the file asigned to the variable `f`.\n",
    "\n",
    "If we wanted to finish writing to the file, we would close it like this:"
   ]
  },
  {
   "cell_type": "code",
   "execution_count": 23,
   "id": "93da3b66",
   "metadata": {},
   "outputs": [],
   "source": [
    "f.close()"
   ]
  },
  {
   "cell_type": "markdown",
   "id": "a751078d",
   "metadata": {},
   "source": [
    "In a notebook we can run cells in any order, so to avoid a situation where we might try to write to a file that's already been closed, let's write the whole file in one go:"
   ]
  },
  {
   "cell_type": "code",
   "execution_count": 24,
   "id": "6f6bedad",
   "metadata": {},
   "outputs": [],
   "source": [
    "f=open(file_name+str(int(dangerous_bpm_IDs[0]))+'.txt','w')\n",
    "f.write(letter_string_1)\n",
    "f.write(str(dangerous_bpm_IDs[0]))\n",
    "f.write(letter_string_2)\n",
    "f.write(str(dangerous_bpms[0]))\n",
    "f.write(letter_string_3)\n",
    "f.close()"
   ]
  },
  {
   "cell_type": "markdown",
   "id": "1507bbce",
   "metadata": {},
   "source": [
    "If you can, check that the file `bpm_letter_id_3.txt` has been created (it will be where this notebook is saved) and it contains the text that you expect.\n",
    "\n",
    "We could write files for all the patients with dangerous heart rates using a `for` loop. However, to avoid creating lots of files, let's do it for the first two:"
   ]
  },
  {
   "cell_type": "code",
   "execution_count": 25,
   "id": "79012929",
   "metadata": {},
   "outputs": [],
   "source": [
    "for i in range(3):\n",
    "    f=open(file_name+str(int(dangerous_bpm_IDs[i]))+'.txt','w')\n",
    "    f.write(letter_string_1)\n",
    "    f.write(str(dangerous_bpm_IDs[i]))\n",
    "    f.write(letter_string_2)\n",
    "    f.write(str(dangerous_bpms[i]))\n",
    "    f.write(letter_string_3)\n",
    "    f.close()"
   ]
  },
  {
   "cell_type": "markdown",
   "id": "2742c092",
   "metadata": {},
   "source": [
    "Here the `for` loop asigns the numbers 0, 1 and 2 in turn to the variable `i`, which we use to index each patient in the arrays `dangerous_bpm_IDs` and `dangerous_bpm`, and a new file is created and written to in each iteration of the loop."
   ]
  },
  {
   "cell_type": "markdown",
   "id": "620a93ac",
   "metadata": {},
   "source": [
    "## Data Science\n",
    "\n",
    "So far we have taken some data and done something useful with it. But a data scientist would also ask what the data can tell us. When you begin working with some new data, as a data scientists one of the first things you should do is try to summarise the data in some way. Here some useful numbers to summarise the data would be the mean and standard deviation of all of the heart rate data contained in the raw heart rate data that we got from the `heart_rate_data.csv` file and asigned to the variable `bpm_array`.\n",
    "\n",
    "The average heart rate is just the sum of the heart rates divided by the number of records. We saw that we could use `len` to determine how many heart rate records there are. We can also use the Python function `sum` to add up the elements of a list (provided they are all numbers):"
   ]
  },
  {
   "cell_type": "code",
   "execution_count": 26,
   "id": "ccba3ba1",
   "metadata": {
    "scrolled": true
   },
   "outputs": [
    {
     "data": {
      "text/plain": [
       "79.05797101449275"
      ]
     },
     "execution_count": 26,
     "metadata": {},
     "output_type": "execute_result"
    }
   ],
   "source": [
    "sum(bpm_array)/len(bpm_array)"
   ]
  },
  {
   "cell_type": "markdown",
   "id": "4e1eb03c",
   "metadata": {},
   "source": [
    "However, computing the mean of a list or array is such a common task, that there is a built in function in `numpy` to do this:"
   ]
  },
  {
   "cell_type": "code",
   "execution_count": 27,
   "id": "0c335f45",
   "metadata": {},
   "outputs": [
    {
     "data": {
      "text/plain": [
       "79.05797101449275"
      ]
     },
     "execution_count": 27,
     "metadata": {},
     "output_type": "execute_result"
    }
   ],
   "source": [
    "bpm_array.mean()"
   ]
  },
  {
   "cell_type": "markdown",
   "id": "1cf7c9c2",
   "metadata": {},
   "source": [
    "There is also a function to compute the standard deviation:"
   ]
  },
  {
   "cell_type": "code",
   "execution_count": 28,
   "id": "9ff235ce",
   "metadata": {},
   "outputs": [
    {
     "data": {
      "text/plain": [
       "16.132498533292853"
      ]
     },
     "execution_count": 28,
     "metadata": {},
     "output_type": "execute_result"
    }
   ],
   "source": [
    "bpm_array.std()"
   ]
  },
  {
   "cell_type": "markdown",
   "id": "82b0be74",
   "metadata": {},
   "source": [
    "Visualising data is also an important part of data science, and given a list of numbers, a natural way that you might visualise them is via a histogram.\n",
    "\n",
    "There are many plotting packages that have been created for Python, but one of the most widely used is `matplotlib`."
   ]
  },
  {
   "cell_type": "code",
   "execution_count": 29,
   "id": "3a6f21d2",
   "metadata": {},
   "outputs": [],
   "source": [
    "import matplotlib.pyplot as plt \n",
    "\n",
    "%matplotlib inline"
   ]
  },
  {
   "cell_type": "markdown",
   "id": "979432af",
   "metadata": {},
   "source": [
    "We can plot a histogram using the `hist` function."
   ]
  },
  {
   "cell_type": "code",
   "execution_count": 30,
   "id": "6b35ea51",
   "metadata": {},
   "outputs": [
    {
     "data": {
      "text/plain": [
       "(array([ 2.,  5., 13., 24., 19., 23., 20., 19.,  7.,  6.]),\n",
       " array([ 38. ,  45.8,  53.6,  61.4,  69.2,  77. ,  84.8,  92.6, 100.4,\n",
       "        108.2, 116. ]),\n",
       " <BarContainer object of 10 artists>)"
      ]
     },
     "execution_count": 30,
     "metadata": {},
     "output_type": "execute_result"
    },
    {
     "data": {
      "image/png": "[encoded data removed]",
      "text/plain": [
       "<Figure size 640x480 with 1 Axes>"
      ]
     },
     "metadata": {},
     "output_type": "display_data"
    }
   ],
   "source": [
    "plt.hist(bpm_array)"
   ]
  },
  {
   "cell_type": "markdown",
   "id": "c2a653fc",
   "metadata": {},
   "source": [
    "We might consider whether this data is similar to some known distribution, such as a normal (also called a Gaussian) distribution. There is a package called `scipy` which includes some useful statistical tools."
   ]
  },
  {
   "cell_type": "code",
   "execution_count": 31,
   "id": "cd7d4780",
   "metadata": {},
   "outputs": [],
   "source": [
    "from scipy.stats import norm "
   ]
  },
  {
   "cell_type": "markdown",
   "id": "bf09d06f",
   "metadata": {},
   "source": [
    "We can \"fit\" a normal distribution using the `fit` function."
   ]
  },
  {
   "cell_type": "code",
   "execution_count": 32,
   "id": "af386646",
   "metadata": {},
   "outputs": [],
   "source": [
    "mu, sigma = norm.fit(bpm_array)"
   ]
  },
  {
   "cell_type": "markdown",
   "id": "e688c04d",
   "metadata": {},
   "source": [
    "However, this just computes the mean and standard deviation that we computed above."
   ]
  },
  {
   "cell_type": "code",
   "execution_count": 33,
   "id": "0c33a7e4",
   "metadata": {},
   "outputs": [
    {
     "name": "stdout",
     "output_type": "stream",
     "text": [
      "Mean =  79.05797101449275\n",
      "Standard deviation =  16.132498533292853\n"
     ]
    }
   ],
   "source": [
    "print('Mean = ',mu)\n",
    "print('Standard deviation = ',sigma)"
   ]
  },
  {
   "cell_type": "markdown",
   "id": "1f580569",
   "metadata": {},
   "source": [
    "We might produce a visual comparison of how well the data fits a normal distribution by plotting them together. The `norm` module includes formulae to help do this (although you could also use the formula for a normal distribution if you know what it is)."
   ]
  },
  {
   "cell_type": "code",
   "execution_count": 34,
   "id": "96acc407",
   "metadata": {},
   "outputs": [
    {
     "data": {
      "image/png": "[encoded data removed]",
      "text/plain": [
       "<Figure size 640x480 with 1 Axes>"
      ]
     },
     "metadata": {},
     "output_type": "display_data"
    }
   ],
   "source": [
    "# First we plot the histogram, but here we use a few extra options\n",
    "plt.hist(bpm_array, density=True, color=[0.7,0.8,0.9]);\n",
    "# density=True plots the histogram as a density, so that the area \n",
    "# of the bars adds up to 1.\n",
    "# color=[0.7,0.8,0.9] allows us to specify the color as an RGB triple,\n",
    "# i.e. how much red, green and blue to use.\n",
    "\n",
    "# We will fix the x-axis limits\n",
    "xmin, xmax = plt.xlim() \n",
    "\n",
    "# Now we create an array of 100 linearly spaced values that span the \n",
    "# x-axis limits.\n",
    "x = np.linspace(xmin, xmax, 100) \n",
    "\n",
    "# At these values, we then compute the value of the probability density \n",
    "# function (PDF) of a normal distribution with mean mu and standard \n",
    "# deviation sigma, at these values.\n",
    "p = norm.pdf(x, mu, sigma)\n",
    "\n",
    "# We then plot the PDF\n",
    "plt.plot(x, p, 'b', linewidth=2)\n",
    "\n",
    "# We can add some axes labels and a title\n",
    "plt.xlabel('Beats per minute')\n",
    "plt.ylabel('Density')\n",
    "plt.title('Heart rate distribution')\n",
    "\n",
    "# We can also save the figure as a png file and specify the resolution \n",
    "# in dots per inch (dpi)\n",
    "plt.savefig('bpm_distribution.png',dpi=300)"
   ]
  },
  {
   "cell_type": "markdown",
   "id": "3c734294",
   "metadata": {},
   "source": [
    "## Creating the synthetic data\n",
    "The synthetic data was computed by sampling random values from a normal distribution. To find out realistic mean and standard deviation values, an internet search revealed a paper called [\"Real-world heart rate norms in the Health eHeart study\" by Avram and co-authors in the journal Digital Medicine in 2019](https://www.ncbi.nlm.nih.gov/pmc/articles/PMC6592896/) in which values for these were quoted. These values were used here to create the synthetic data."
   ]
  },
  {
   "cell_type": "code",
   "execution_count": 35,
   "id": "d7ed28f8",
   "metadata": {},
   "outputs": [],
   "source": [
    "bpm_mean=79.1\n",
    "bpm_std=14.5\n",
    "number_observations=138"
   ]
  },
  {
   "cell_type": "markdown",
   "id": "6ad0aafd",
   "metadata": {},
   "source": [
    "The random numbers are sampled using a \"pseudo random number generator\", and to ensure that the same values appear on every computer the \"seed\" of this random number generator is fixed.\n"
   ]
  },
  {
   "cell_type": "code",
   "execution_count": 36,
   "id": "b34c2b49",
   "metadata": {},
   "outputs": [],
   "source": [
    "np.random.seed(seed=123)"
   ]
  },
  {
   "cell_type": "markdown",
   "id": "6b1ff4f8",
   "metadata": {},
   "source": [
    "The bpm values can be sampled from a normal distribution with mean `bpm_mean` and standard deviation `bpm_std` in the following way:"
   ]
  },
  {
   "cell_type": "code",
   "execution_count": 37,
   "id": "65eef76f",
   "metadata": {},
   "outputs": [],
   "source": [
    "bpm_data=bpm_mean+bpm_std*np.random.randn(number_observations)"
   ]
  },
  {
   "cell_type": "markdown",
   "id": "1299834f",
   "metadata": {},
   "source": [
    "Let's check the first few of these agree with what we used above."
   ]
  },
  {
   "cell_type": "code",
   "execution_count": 38,
   "id": "ec94f858",
   "metadata": {},
   "outputs": [
    {
     "data": {
      "text/plain": [
       "array([ 63.35835625,  93.56150898,  83.20318822,  57.25872665,\n",
       "        70.71029635, 103.04582979,  43.91315097,  72.88076688,\n",
       "        97.45607575,  66.53226417])"
      ]
     },
     "execution_count": 38,
     "metadata": {},
     "output_type": "execute_result"
    }
   ],
   "source": [
    "bpm_data[:10]"
   ]
  },
  {
   "cell_type": "markdown",
   "id": "e32a3944",
   "metadata": {},
   "source": [
    "You can see these numbers have many decimal places, but the integer parts match those used above.\n",
    "\n",
    "These can then be written to a csv file using the `numpy` function `savetxt`. This specifies the format of the numbers in the file via the argument `fmt='%d'`, which saves the numbers as integers (i.e. it removes the fractional part and leaves the integer part)."
   ]
  },
  {
   "cell_type": "code",
   "execution_count": 39,
   "id": "b59bc564",
   "metadata": {},
   "outputs": [],
   "source": [
    "np.savetxt('heart_rate_data.csv',bpm_data,fmt='%d')"
   ]
  },
  {
   "cell_type": "code",
   "execution_count": null,
   "id": "39698ff3",
   "metadata": {},
   "outputs": [],
   "source": []
  }
 ],
 "metadata": {
  "kernelspec": {
   "display_name": "Python 3 (ipykernel)",
   "language": "python",
   "name": "python3"
  },
  "language_info": {
   "codemirror_mode": {
    "name": "ipython",
    "version": 3
   },
   "file_extension": ".py",
   "mimetype": "text/x-python",
   "name": "python",
   "nbconvert_exporter": "python",
   "pygments_lexer": "ipython3",
   "version": "3.8.13"
  }
 },
 "nbformat": 4,
 "nbformat_minor": 5
}
